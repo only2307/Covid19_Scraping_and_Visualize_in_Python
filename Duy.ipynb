{
  "nbformat": 4,
  "nbformat_minor": 0,
  "metadata": {
    "colab": {
      "name": "DV_lab1",
      "provenance": [],
      "collapsed_sections": [],
      "authorship_tag": "ABX9TyNTiBSIUcgZW7rKaNSBV+q8",
      "include_colab_link": true
    },
    "kernelspec": {
      "name": "python3",
      "display_name": "Python 3"
    },
    "language_info": {
      "name": "python"
    }
  },
  "cells": [
    {
      "cell_type": "markdown",
      "metadata": {
        "id": "view-in-github",
        "colab_type": "text"
      },
      "source": [
        "<a href=\"https://colab.research.google.com/github/only2307/Covid19_Scraping_and_Visualize_in_Python/blob/main/Duy.ipynb\" target=\"_parent\"><img src=\"https://colab.research.google.com/assets/colab-badge.svg\" alt=\"Open In Colab\"/></a>"
      ]
    },
    {
      "cell_type": "markdown",
      "source": [
        ""
      ],
      "metadata": {
        "id": "km7vUrDIX3C7"
      }
    },
    {
      "cell_type": "code",
      "source": [
        "import pandas as pd\n",
        "import numpy as np\n",
        "import matplotlib.pyplot as plt\n",
        "import seaborn as sns\n",
        "import math"
      ],
      "metadata": {
        "id": "Oik6_Wo1Y1HP"
      },
      "execution_count": 1,
      "outputs": []
    },
    {
      "cell_type": "code",
      "source": [
        "from google.colab import drive\n",
        "drive.mount('/content/gdrive')"
      ],
      "metadata": {
        "colab": {
          "base_uri": "https://localhost:8080/"
        },
        "id": "U7hK7mZbNGXu",
        "outputId": "d08084f0-ba20-475c-ad7f-a50e08facf8d"
      },
      "execution_count": 2,
      "outputs": [
        {
          "output_type": "stream",
          "name": "stdout",
          "text": [
            "Mounted at /content/gdrive\n"
          ]
        }
      ]
    },
    {
      "cell_type": "code",
      "source": [
        "!pwd"
      ],
      "metadata": {
        "colab": {
          "base_uri": "https://localhost:8080/"
        },
        "id": "oifUAFngdZDi",
        "outputId": "2059776a-7b30-4bb1-971f-38a666f7c25a"
      },
      "execution_count": 3,
      "outputs": [
        {
          "output_type": "stream",
          "name": "stdout",
          "text": [
            "/content\n"
          ]
        }
      ]
    },
    {
      "cell_type": "code",
      "source": [
        "df =pd.read_csv(\"/content/gdrive/My Drive/Dataset/DataVisualization/covid_data_04_30_22.csv\")\n",
        "df.head()"
      ],
      "metadata": {
        "colab": {
          "base_uri": "https://localhost:8080/",
          "height": 288
        },
        "id": "k_bxgpEDY4rC",
        "outputId": "d9a0cc14-5d10-4680-8fe2-186a8b01c0f4"
      },
      "execution_count": 4,
      "outputs": [
        {
          "output_type": "execute_result",
          "data": {
            "text/plain": [
              "  Country,Other   TotalCases  NewCases TotalDeaths  NewDeaths TotalRecovered  \\\n",
              "0         World  512,954,708  +150,094   6,259,436      427.0    466,821,638   \n",
              "1           USA   83,037,059       NaN   1,020,660        NaN     80,655,685   \n",
              "2         India   43,075,864       NaN     523,803        NaN     42,533,377   \n",
              "3        Brazil   30,433,042       NaN     663,484        NaN     29,507,557   \n",
              "4        France   28,595,803       NaN     145,869        NaN     26,693,852   \n",
              "\n",
              "  NewRecovered ActiveCases Serious,Critical TotCases/1M pop Deaths/1M pop  \\\n",
              "0     +167,011  39,873,634           41,358          65,807         803.0   \n",
              "1          NaN   1,360,714            1,562         248,214         3,051   \n",
              "2          NaN      18,684              698          30,665           373   \n",
              "3          NaN     262,001            8,318         141,344         3,082   \n",
              "4          NaN   1,756,082            1,677         436,333         2,226   \n",
              "\n",
              "      TotalTests Tests/1M pop     Population  \n",
              "0            NaN          NaN            NaN  \n",
              "1  1,005,251,244    3,004,892    334,538,223  \n",
              "2    837,442,023      596,164  1,404,717,429  \n",
              "3     63,776,166      296,204    215,311,673  \n",
              "4    266,484,045    4,066,187     65,536,600  "
            ],
            "text/html": [
              "\n",
              "  <div id=\"df-8b23f4f6-4489-4895-bf23-1d4b0220f628\">\n",
              "    <div class=\"colab-df-container\">\n",
              "      <div>\n",
              "<style scoped>\n",
              "    .dataframe tbody tr th:only-of-type {\n",
              "        vertical-align: middle;\n",
              "    }\n",
              "\n",
              "    .dataframe tbody tr th {\n",
              "        vertical-align: top;\n",
              "    }\n",
              "\n",
              "    .dataframe thead th {\n",
              "        text-align: right;\n",
              "    }\n",
              "</style>\n",
              "<table border=\"1\" class=\"dataframe\">\n",
              "  <thead>\n",
              "    <tr style=\"text-align: right;\">\n",
              "      <th></th>\n",
              "      <th>Country,Other</th>\n",
              "      <th>TotalCases</th>\n",
              "      <th>NewCases</th>\n",
              "      <th>TotalDeaths</th>\n",
              "      <th>NewDeaths</th>\n",
              "      <th>TotalRecovered</th>\n",
              "      <th>NewRecovered</th>\n",
              "      <th>ActiveCases</th>\n",
              "      <th>Serious,Critical</th>\n",
              "      <th>TotCases/1M pop</th>\n",
              "      <th>Deaths/1M pop</th>\n",
              "      <th>TotalTests</th>\n",
              "      <th>Tests/1M pop</th>\n",
              "      <th>Population</th>\n",
              "    </tr>\n",
              "  </thead>\n",
              "  <tbody>\n",
              "    <tr>\n",
              "      <th>0</th>\n",
              "      <td>World</td>\n",
              "      <td>512,954,708</td>\n",
              "      <td>+150,094</td>\n",
              "      <td>6,259,436</td>\n",
              "      <td>427.0</td>\n",
              "      <td>466,821,638</td>\n",
              "      <td>+167,011</td>\n",
              "      <td>39,873,634</td>\n",
              "      <td>41,358</td>\n",
              "      <td>65,807</td>\n",
              "      <td>803.0</td>\n",
              "      <td>NaN</td>\n",
              "      <td>NaN</td>\n",
              "      <td>NaN</td>\n",
              "    </tr>\n",
              "    <tr>\n",
              "      <th>1</th>\n",
              "      <td>USA</td>\n",
              "      <td>83,037,059</td>\n",
              "      <td>NaN</td>\n",
              "      <td>1,020,660</td>\n",
              "      <td>NaN</td>\n",
              "      <td>80,655,685</td>\n",
              "      <td>NaN</td>\n",
              "      <td>1,360,714</td>\n",
              "      <td>1,562</td>\n",
              "      <td>248,214</td>\n",
              "      <td>3,051</td>\n",
              "      <td>1,005,251,244</td>\n",
              "      <td>3,004,892</td>\n",
              "      <td>334,538,223</td>\n",
              "    </tr>\n",
              "    <tr>\n",
              "      <th>2</th>\n",
              "      <td>India</td>\n",
              "      <td>43,075,864</td>\n",
              "      <td>NaN</td>\n",
              "      <td>523,803</td>\n",
              "      <td>NaN</td>\n",
              "      <td>42,533,377</td>\n",
              "      <td>NaN</td>\n",
              "      <td>18,684</td>\n",
              "      <td>698</td>\n",
              "      <td>30,665</td>\n",
              "      <td>373</td>\n",
              "      <td>837,442,023</td>\n",
              "      <td>596,164</td>\n",
              "      <td>1,404,717,429</td>\n",
              "    </tr>\n",
              "    <tr>\n",
              "      <th>3</th>\n",
              "      <td>Brazil</td>\n",
              "      <td>30,433,042</td>\n",
              "      <td>NaN</td>\n",
              "      <td>663,484</td>\n",
              "      <td>NaN</td>\n",
              "      <td>29,507,557</td>\n",
              "      <td>NaN</td>\n",
              "      <td>262,001</td>\n",
              "      <td>8,318</td>\n",
              "      <td>141,344</td>\n",
              "      <td>3,082</td>\n",
              "      <td>63,776,166</td>\n",
              "      <td>296,204</td>\n",
              "      <td>215,311,673</td>\n",
              "    </tr>\n",
              "    <tr>\n",
              "      <th>4</th>\n",
              "      <td>France</td>\n",
              "      <td>28,595,803</td>\n",
              "      <td>NaN</td>\n",
              "      <td>145,869</td>\n",
              "      <td>NaN</td>\n",
              "      <td>26,693,852</td>\n",
              "      <td>NaN</td>\n",
              "      <td>1,756,082</td>\n",
              "      <td>1,677</td>\n",
              "      <td>436,333</td>\n",
              "      <td>2,226</td>\n",
              "      <td>266,484,045</td>\n",
              "      <td>4,066,187</td>\n",
              "      <td>65,536,600</td>\n",
              "    </tr>\n",
              "  </tbody>\n",
              "</table>\n",
              "</div>\n",
              "      <button class=\"colab-df-convert\" onclick=\"convertToInteractive('df-8b23f4f6-4489-4895-bf23-1d4b0220f628')\"\n",
              "              title=\"Convert this dataframe to an interactive table.\"\n",
              "              style=\"display:none;\">\n",
              "        \n",
              "  <svg xmlns=\"http://www.w3.org/2000/svg\" height=\"24px\"viewBox=\"0 0 24 24\"\n",
              "       width=\"24px\">\n",
              "    <path d=\"M0 0h24v24H0V0z\" fill=\"none\"/>\n",
              "    <path d=\"M18.56 5.44l.94 2.06.94-2.06 2.06-.94-2.06-.94-.94-2.06-.94 2.06-2.06.94zm-11 1L8.5 8.5l.94-2.06 2.06-.94-2.06-.94L8.5 2.5l-.94 2.06-2.06.94zm10 10l.94 2.06.94-2.06 2.06-.94-2.06-.94-.94-2.06-.94 2.06-2.06.94z\"/><path d=\"M17.41 7.96l-1.37-1.37c-.4-.4-.92-.59-1.43-.59-.52 0-1.04.2-1.43.59L10.3 9.45l-7.72 7.72c-.78.78-.78 2.05 0 2.83L4 21.41c.39.39.9.59 1.41.59.51 0 1.02-.2 1.41-.59l7.78-7.78 2.81-2.81c.8-.78.8-2.07 0-2.86zM5.41 20L4 18.59l7.72-7.72 1.47 1.35L5.41 20z\"/>\n",
              "  </svg>\n",
              "      </button>\n",
              "      \n",
              "  <style>\n",
              "    .colab-df-container {\n",
              "      display:flex;\n",
              "      flex-wrap:wrap;\n",
              "      gap: 12px;\n",
              "    }\n",
              "\n",
              "    .colab-df-convert {\n",
              "      background-color: #E8F0FE;\n",
              "      border: none;\n",
              "      border-radius: 50%;\n",
              "      cursor: pointer;\n",
              "      display: none;\n",
              "      fill: #1967D2;\n",
              "      height: 32px;\n",
              "      padding: 0 0 0 0;\n",
              "      width: 32px;\n",
              "    }\n",
              "\n",
              "    .colab-df-convert:hover {\n",
              "      background-color: #E2EBFA;\n",
              "      box-shadow: 0px 1px 2px rgba(60, 64, 67, 0.3), 0px 1px 3px 1px rgba(60, 64, 67, 0.15);\n",
              "      fill: #174EA6;\n",
              "    }\n",
              "\n",
              "    [theme=dark] .colab-df-convert {\n",
              "      background-color: #3B4455;\n",
              "      fill: #D2E3FC;\n",
              "    }\n",
              "\n",
              "    [theme=dark] .colab-df-convert:hover {\n",
              "      background-color: #434B5C;\n",
              "      box-shadow: 0px 1px 3px 1px rgba(0, 0, 0, 0.15);\n",
              "      filter: drop-shadow(0px 1px 2px rgba(0, 0, 0, 0.3));\n",
              "      fill: #FFFFFF;\n",
              "    }\n",
              "  </style>\n",
              "\n",
              "      <script>\n",
              "        const buttonEl =\n",
              "          document.querySelector('#df-8b23f4f6-4489-4895-bf23-1d4b0220f628 button.colab-df-convert');\n",
              "        buttonEl.style.display =\n",
              "          google.colab.kernel.accessAllowed ? 'block' : 'none';\n",
              "\n",
              "        async function convertToInteractive(key) {\n",
              "          const element = document.querySelector('#df-8b23f4f6-4489-4895-bf23-1d4b0220f628');\n",
              "          const dataTable =\n",
              "            await google.colab.kernel.invokeFunction('convertToInteractive',\n",
              "                                                     [key], {});\n",
              "          if (!dataTable) return;\n",
              "\n",
              "          const docLinkHtml = 'Like what you see? Visit the ' +\n",
              "            '<a target=\"_blank\" href=https://colab.research.google.com/notebooks/data_table.ipynb>data table notebook</a>'\n",
              "            + ' to learn more about interactive tables.';\n",
              "          element.innerHTML = '';\n",
              "          dataTable['output_type'] = 'display_data';\n",
              "          await google.colab.output.renderOutput(dataTable, element);\n",
              "          const docLink = document.createElement('div');\n",
              "          docLink.innerHTML = docLinkHtml;\n",
              "          element.appendChild(docLink);\n",
              "        }\n",
              "      </script>\n",
              "    </div>\n",
              "  </div>\n",
              "  "
            ]
          },
          "metadata": {},
          "execution_count": 4
        }
      ]
    },
    {
      "cell_type": "markdown",
      "source": [
        "# Preprocessing data"
      ],
      "metadata": {
        "id": "6bNjmKCMZnfV"
      }
    },
    {
      "cell_type": "code",
      "source": [
        "#kiểm tra kiểu dữ liệu trong từng cột\n",
        "df.dtypes"
      ],
      "metadata": {
        "id": "Lg1Cl9cY-Hbr",
        "colab": {
          "base_uri": "https://localhost:8080/"
        },
        "outputId": "c7f32311-6d41-4b66-d697-02f21a1da67a"
      },
      "execution_count": 5,
      "outputs": [
        {
          "output_type": "execute_result",
          "data": {
            "text/plain": [
              "Country,Other        object\n",
              "TotalCases           object\n",
              "NewCases             object\n",
              "TotalDeaths          object\n",
              "NewDeaths           float64\n",
              "TotalRecovered       object\n",
              "NewRecovered         object\n",
              "ActiveCases          object\n",
              "Serious,Critical     object\n",
              "TotCases/1M pop      object\n",
              "Deaths/1M pop        object\n",
              "TotalTests           object\n",
              "Tests/1M pop         object\n",
              "Population           object\n",
              "dtype: object"
            ]
          },
          "metadata": {},
          "execution_count": 5
        }
      ]
    },
    {
      "cell_type": "markdown",
      "source": [
        "Ta thấy ngoài trừ cột `Country,Other` biểu thị tên quốc gia có kiểu là `str` thì các cột có kiểu `object` khác nên được chuyển về numeric để có thể trực quan hóa. Hàm `change_data_type` nhận vào 1 dataframe cần chuyển đổi kiểu dữ liệu. Ta sẽ chuyển các cột `object` vừa nêu thành kiểu `float`.   \n",
        "Ta tiến hành loại bỏ ký tự `+` (nếu có) và `,` trong các ô, sử dụng hàm `replace` của kiểu `str` (cần chuyển về kiểu `str` trước khi sử dụng `replace`) và `astype` của pandas để sửa lỗi và chuyển kiểu dữ liệu của giá trị đó."
      ],
      "metadata": {
        "id": "X3e_1f90bWcq"
      }
    },
    {
      "cell_type": "code",
      "source": [
        "def change_data_type(df):\n",
        "    new_cols = ['TotalCases', 'TotalDeaths', 'TotalRecovered', 'NewCases',  'NewRecovered', 'ActiveCases', \t'Serious,Critical',\n",
        "                'TotCases/1M pop', 'Deaths/1M pop', 'TotalTests',\t'Tests/1M pop', 'Population']\n",
        "    for col in new_cols:\n",
        "      df[col] = df[col].str.replace('+', '')\n",
        "      df[col] = df[col].str.replace(',', '')\n",
        "      df[col] = df[col].astype(float)\n",
        "    return df\n",
        "change_data_type(df)"
      ],
      "metadata": {
        "id": "YYc0aOXvGZN3",
        "colab": {
          "base_uri": "https://localhost:8080/",
          "height": 540
        },
        "outputId": "2869adc1-2fe7-414f-91e0-7b1c8f672965"
      },
      "execution_count": 6,
      "outputs": [
        {
          "output_type": "stream",
          "name": "stderr",
          "text": [
            "/usr/local/lib/python3.7/dist-packages/ipykernel_launcher.py:5: FutureWarning: The default value of regex will change from True to False in a future version. In addition, single character regular expressions will *not* be treated as literal strings when regex=True.\n",
            "  \"\"\"\n"
          ]
        },
        {
          "output_type": "execute_result",
          "data": {
            "text/plain": [
              "    Country,Other   TotalCases  NewCases  TotalDeaths  NewDeaths  \\\n",
              "0           World  512954708.0  150094.0    6259436.0      427.0   \n",
              "1             USA   83037059.0       NaN    1020660.0        NaN   \n",
              "2           India   43075864.0       NaN     523803.0        NaN   \n",
              "3          Brazil   30433042.0       NaN     663484.0        NaN   \n",
              "4          France   28595803.0       NaN     145869.0        NaN   \n",
              "..            ...          ...       ...          ...        ...   \n",
              "224          Niue          9.0       NaN          NaN        NaN   \n",
              "225         Nauru          5.0       1.0          NaN        NaN   \n",
              "226    Micronesia          3.0       NaN          NaN        NaN   \n",
              "227  Saint Helena          2.0       NaN          NaN        NaN   \n",
              "228         China     215667.0    1424.0       5022.0       47.0   \n",
              "\n",
              "     TotalRecovered  NewRecovered  ActiveCases  Serious,Critical  \\\n",
              "0       466821638.0      167011.0   39873634.0           41358.0   \n",
              "1        80655685.0           NaN    1360714.0            1562.0   \n",
              "2        42533377.0           NaN      18684.0             698.0   \n",
              "3        29507557.0           NaN     262001.0            8318.0   \n",
              "4        26693852.0           NaN    1756082.0            1677.0   \n",
              "..              ...           ...          ...               ...   \n",
              "224             7.0           NaN          2.0               NaN   \n",
              "225             3.0           NaN          2.0               NaN   \n",
              "226             1.0           NaN          2.0               NaN   \n",
              "227             2.0           NaN          0.0               NaN   \n",
              "228        184078.0        3127.0      26567.0             458.0   \n",
              "\n",
              "     TotCases/1M pop  Deaths/1M pop    TotalTests  Tests/1M pop    Population  \n",
              "0            65807.0          803.0           NaN           NaN           NaN  \n",
              "1           248214.0         3051.0  1.005251e+09     3004892.0  3.345382e+08  \n",
              "2            30665.0          373.0  8.374420e+08      596164.0  1.404717e+09  \n",
              "3           141344.0         3082.0  6.377617e+07      296204.0  2.153117e+08  \n",
              "4           436333.0         2226.0  2.664840e+08     4066187.0  6.553660e+07  \n",
              "..               ...            ...           ...           ...           ...  \n",
              "224           5468.0            NaN           NaN           NaN  1.646000e+03  \n",
              "225            457.0            NaN           NaN           NaN  1.094800e+04  \n",
              "226             26.0            NaN           NaN           NaN  1.172190e+05  \n",
              "227            327.0            NaN           NaN           NaN  6.110000e+03  \n",
              "228            150.0            3.0  1.600000e+08      111163.0  1.439324e+09  \n",
              "\n",
              "[229 rows x 14 columns]"
            ],
            "text/html": [
              "\n",
              "  <div id=\"df-2b9328bb-c277-489e-8243-1e26877978f3\">\n",
              "    <div class=\"colab-df-container\">\n",
              "      <div>\n",
              "<style scoped>\n",
              "    .dataframe tbody tr th:only-of-type {\n",
              "        vertical-align: middle;\n",
              "    }\n",
              "\n",
              "    .dataframe tbody tr th {\n",
              "        vertical-align: top;\n",
              "    }\n",
              "\n",
              "    .dataframe thead th {\n",
              "        text-align: right;\n",
              "    }\n",
              "</style>\n",
              "<table border=\"1\" class=\"dataframe\">\n",
              "  <thead>\n",
              "    <tr style=\"text-align: right;\">\n",
              "      <th></th>\n",
              "      <th>Country,Other</th>\n",
              "      <th>TotalCases</th>\n",
              "      <th>NewCases</th>\n",
              "      <th>TotalDeaths</th>\n",
              "      <th>NewDeaths</th>\n",
              "      <th>TotalRecovered</th>\n",
              "      <th>NewRecovered</th>\n",
              "      <th>ActiveCases</th>\n",
              "      <th>Serious,Critical</th>\n",
              "      <th>TotCases/1M pop</th>\n",
              "      <th>Deaths/1M pop</th>\n",
              "      <th>TotalTests</th>\n",
              "      <th>Tests/1M pop</th>\n",
              "      <th>Population</th>\n",
              "    </tr>\n",
              "  </thead>\n",
              "  <tbody>\n",
              "    <tr>\n",
              "      <th>0</th>\n",
              "      <td>World</td>\n",
              "      <td>512954708.0</td>\n",
              "      <td>150094.0</td>\n",
              "      <td>6259436.0</td>\n",
              "      <td>427.0</td>\n",
              "      <td>466821638.0</td>\n",
              "      <td>167011.0</td>\n",
              "      <td>39873634.0</td>\n",
              "      <td>41358.0</td>\n",
              "      <td>65807.0</td>\n",
              "      <td>803.0</td>\n",
              "      <td>NaN</td>\n",
              "      <td>NaN</td>\n",
              "      <td>NaN</td>\n",
              "    </tr>\n",
              "    <tr>\n",
              "      <th>1</th>\n",
              "      <td>USA</td>\n",
              "      <td>83037059.0</td>\n",
              "      <td>NaN</td>\n",
              "      <td>1020660.0</td>\n",
              "      <td>NaN</td>\n",
              "      <td>80655685.0</td>\n",
              "      <td>NaN</td>\n",
              "      <td>1360714.0</td>\n",
              "      <td>1562.0</td>\n",
              "      <td>248214.0</td>\n",
              "      <td>3051.0</td>\n",
              "      <td>1.005251e+09</td>\n",
              "      <td>3004892.0</td>\n",
              "      <td>3.345382e+08</td>\n",
              "    </tr>\n",
              "    <tr>\n",
              "      <th>2</th>\n",
              "      <td>India</td>\n",
              "      <td>43075864.0</td>\n",
              "      <td>NaN</td>\n",
              "      <td>523803.0</td>\n",
              "      <td>NaN</td>\n",
              "      <td>42533377.0</td>\n",
              "      <td>NaN</td>\n",
              "      <td>18684.0</td>\n",
              "      <td>698.0</td>\n",
              "      <td>30665.0</td>\n",
              "      <td>373.0</td>\n",
              "      <td>8.374420e+08</td>\n",
              "      <td>596164.0</td>\n",
              "      <td>1.404717e+09</td>\n",
              "    </tr>\n",
              "    <tr>\n",
              "      <th>3</th>\n",
              "      <td>Brazil</td>\n",
              "      <td>30433042.0</td>\n",
              "      <td>NaN</td>\n",
              "      <td>663484.0</td>\n",
              "      <td>NaN</td>\n",
              "      <td>29507557.0</td>\n",
              "      <td>NaN</td>\n",
              "      <td>262001.0</td>\n",
              "      <td>8318.0</td>\n",
              "      <td>141344.0</td>\n",
              "      <td>3082.0</td>\n",
              "      <td>6.377617e+07</td>\n",
              "      <td>296204.0</td>\n",
              "      <td>2.153117e+08</td>\n",
              "    </tr>\n",
              "    <tr>\n",
              "      <th>4</th>\n",
              "      <td>France</td>\n",
              "      <td>28595803.0</td>\n",
              "      <td>NaN</td>\n",
              "      <td>145869.0</td>\n",
              "      <td>NaN</td>\n",
              "      <td>26693852.0</td>\n",
              "      <td>NaN</td>\n",
              "      <td>1756082.0</td>\n",
              "      <td>1677.0</td>\n",
              "      <td>436333.0</td>\n",
              "      <td>2226.0</td>\n",
              "      <td>2.664840e+08</td>\n",
              "      <td>4066187.0</td>\n",
              "      <td>6.553660e+07</td>\n",
              "    </tr>\n",
              "    <tr>\n",
              "      <th>...</th>\n",
              "      <td>...</td>\n",
              "      <td>...</td>\n",
              "      <td>...</td>\n",
              "      <td>...</td>\n",
              "      <td>...</td>\n",
              "      <td>...</td>\n",
              "      <td>...</td>\n",
              "      <td>...</td>\n",
              "      <td>...</td>\n",
              "      <td>...</td>\n",
              "      <td>...</td>\n",
              "      <td>...</td>\n",
              "      <td>...</td>\n",
              "      <td>...</td>\n",
              "    </tr>\n",
              "    <tr>\n",
              "      <th>224</th>\n",
              "      <td>Niue</td>\n",
              "      <td>9.0</td>\n",
              "      <td>NaN</td>\n",
              "      <td>NaN</td>\n",
              "      <td>NaN</td>\n",
              "      <td>7.0</td>\n",
              "      <td>NaN</td>\n",
              "      <td>2.0</td>\n",
              "      <td>NaN</td>\n",
              "      <td>5468.0</td>\n",
              "      <td>NaN</td>\n",
              "      <td>NaN</td>\n",
              "      <td>NaN</td>\n",
              "      <td>1.646000e+03</td>\n",
              "    </tr>\n",
              "    <tr>\n",
              "      <th>225</th>\n",
              "      <td>Nauru</td>\n",
              "      <td>5.0</td>\n",
              "      <td>1.0</td>\n",
              "      <td>NaN</td>\n",
              "      <td>NaN</td>\n",
              "      <td>3.0</td>\n",
              "      <td>NaN</td>\n",
              "      <td>2.0</td>\n",
              "      <td>NaN</td>\n",
              "      <td>457.0</td>\n",
              "      <td>NaN</td>\n",
              "      <td>NaN</td>\n",
              "      <td>NaN</td>\n",
              "      <td>1.094800e+04</td>\n",
              "    </tr>\n",
              "    <tr>\n",
              "      <th>226</th>\n",
              "      <td>Micronesia</td>\n",
              "      <td>3.0</td>\n",
              "      <td>NaN</td>\n",
              "      <td>NaN</td>\n",
              "      <td>NaN</td>\n",
              "      <td>1.0</td>\n",
              "      <td>NaN</td>\n",
              "      <td>2.0</td>\n",
              "      <td>NaN</td>\n",
              "      <td>26.0</td>\n",
              "      <td>NaN</td>\n",
              "      <td>NaN</td>\n",
              "      <td>NaN</td>\n",
              "      <td>1.172190e+05</td>\n",
              "    </tr>\n",
              "    <tr>\n",
              "      <th>227</th>\n",
              "      <td>Saint Helena</td>\n",
              "      <td>2.0</td>\n",
              "      <td>NaN</td>\n",
              "      <td>NaN</td>\n",
              "      <td>NaN</td>\n",
              "      <td>2.0</td>\n",
              "      <td>NaN</td>\n",
              "      <td>0.0</td>\n",
              "      <td>NaN</td>\n",
              "      <td>327.0</td>\n",
              "      <td>NaN</td>\n",
              "      <td>NaN</td>\n",
              "      <td>NaN</td>\n",
              "      <td>6.110000e+03</td>\n",
              "    </tr>\n",
              "    <tr>\n",
              "      <th>228</th>\n",
              "      <td>China</td>\n",
              "      <td>215667.0</td>\n",
              "      <td>1424.0</td>\n",
              "      <td>5022.0</td>\n",
              "      <td>47.0</td>\n",
              "      <td>184078.0</td>\n",
              "      <td>3127.0</td>\n",
              "      <td>26567.0</td>\n",
              "      <td>458.0</td>\n",
              "      <td>150.0</td>\n",
              "      <td>3.0</td>\n",
              "      <td>1.600000e+08</td>\n",
              "      <td>111163.0</td>\n",
              "      <td>1.439324e+09</td>\n",
              "    </tr>\n",
              "  </tbody>\n",
              "</table>\n",
              "<p>229 rows × 14 columns</p>\n",
              "</div>\n",
              "      <button class=\"colab-df-convert\" onclick=\"convertToInteractive('df-2b9328bb-c277-489e-8243-1e26877978f3')\"\n",
              "              title=\"Convert this dataframe to an interactive table.\"\n",
              "              style=\"display:none;\">\n",
              "        \n",
              "  <svg xmlns=\"http://www.w3.org/2000/svg\" height=\"24px\"viewBox=\"0 0 24 24\"\n",
              "       width=\"24px\">\n",
              "    <path d=\"M0 0h24v24H0V0z\" fill=\"none\"/>\n",
              "    <path d=\"M18.56 5.44l.94 2.06.94-2.06 2.06-.94-2.06-.94-.94-2.06-.94 2.06-2.06.94zm-11 1L8.5 8.5l.94-2.06 2.06-.94-2.06-.94L8.5 2.5l-.94 2.06-2.06.94zm10 10l.94 2.06.94-2.06 2.06-.94-2.06-.94-.94-2.06-.94 2.06-2.06.94z\"/><path d=\"M17.41 7.96l-1.37-1.37c-.4-.4-.92-.59-1.43-.59-.52 0-1.04.2-1.43.59L10.3 9.45l-7.72 7.72c-.78.78-.78 2.05 0 2.83L4 21.41c.39.39.9.59 1.41.59.51 0 1.02-.2 1.41-.59l7.78-7.78 2.81-2.81c.8-.78.8-2.07 0-2.86zM5.41 20L4 18.59l7.72-7.72 1.47 1.35L5.41 20z\"/>\n",
              "  </svg>\n",
              "      </button>\n",
              "      \n",
              "  <style>\n",
              "    .colab-df-container {\n",
              "      display:flex;\n",
              "      flex-wrap:wrap;\n",
              "      gap: 12px;\n",
              "    }\n",
              "\n",
              "    .colab-df-convert {\n",
              "      background-color: #E8F0FE;\n",
              "      border: none;\n",
              "      border-radius: 50%;\n",
              "      cursor: pointer;\n",
              "      display: none;\n",
              "      fill: #1967D2;\n",
              "      height: 32px;\n",
              "      padding: 0 0 0 0;\n",
              "      width: 32px;\n",
              "    }\n",
              "\n",
              "    .colab-df-convert:hover {\n",
              "      background-color: #E2EBFA;\n",
              "      box-shadow: 0px 1px 2px rgba(60, 64, 67, 0.3), 0px 1px 3px 1px rgba(60, 64, 67, 0.15);\n",
              "      fill: #174EA6;\n",
              "    }\n",
              "\n",
              "    [theme=dark] .colab-df-convert {\n",
              "      background-color: #3B4455;\n",
              "      fill: #D2E3FC;\n",
              "    }\n",
              "\n",
              "    [theme=dark] .colab-df-convert:hover {\n",
              "      background-color: #434B5C;\n",
              "      box-shadow: 0px 1px 3px 1px rgba(0, 0, 0, 0.15);\n",
              "      filter: drop-shadow(0px 1px 2px rgba(0, 0, 0, 0.3));\n",
              "      fill: #FFFFFF;\n",
              "    }\n",
              "  </style>\n",
              "\n",
              "      <script>\n",
              "        const buttonEl =\n",
              "          document.querySelector('#df-2b9328bb-c277-489e-8243-1e26877978f3 button.colab-df-convert');\n",
              "        buttonEl.style.display =\n",
              "          google.colab.kernel.accessAllowed ? 'block' : 'none';\n",
              "\n",
              "        async function convertToInteractive(key) {\n",
              "          const element = document.querySelector('#df-2b9328bb-c277-489e-8243-1e26877978f3');\n",
              "          const dataTable =\n",
              "            await google.colab.kernel.invokeFunction('convertToInteractive',\n",
              "                                                     [key], {});\n",
              "          if (!dataTable) return;\n",
              "\n",
              "          const docLinkHtml = 'Like what you see? Visit the ' +\n",
              "            '<a target=\"_blank\" href=https://colab.research.google.com/notebooks/data_table.ipynb>data table notebook</a>'\n",
              "            + ' to learn more about interactive tables.';\n",
              "          element.innerHTML = '';\n",
              "          dataTable['output_type'] = 'display_data';\n",
              "          await google.colab.output.renderOutput(dataTable, element);\n",
              "          const docLink = document.createElement('div');\n",
              "          docLink.innerHTML = docLinkHtml;\n",
              "          element.appendChild(docLink);\n",
              "        }\n",
              "      </script>\n",
              "    </div>\n",
              "  </div>\n",
              "  "
            ]
          },
          "metadata": {},
          "execution_count": 6
        }
      ]
    },
    {
      "cell_type": "markdown",
      "source": [
        "Ta kiểm tra lại 1 lần nữa thì thấy các cột đã có kiểu dữ liệu phù hợp."
      ],
      "metadata": {
        "id": "jm8BArMac3K2"
      }
    },
    {
      "cell_type": "code",
      "source": [
        "df.dtypes"
      ],
      "metadata": {
        "colab": {
          "base_uri": "https://localhost:8080/"
        },
        "id": "Ma8I2eNTa8yr",
        "outputId": "1b16d345-78eb-4c04-ff81-4ea81f71f5d1"
      },
      "execution_count": 7,
      "outputs": [
        {
          "output_type": "execute_result",
          "data": {
            "text/plain": [
              "Country,Other        object\n",
              "TotalCases          float64\n",
              "NewCases            float64\n",
              "TotalDeaths         float64\n",
              "NewDeaths           float64\n",
              "TotalRecovered      float64\n",
              "NewRecovered        float64\n",
              "ActiveCases         float64\n",
              "Serious,Critical    float64\n",
              "TotCases/1M pop     float64\n",
              "Deaths/1M pop       float64\n",
              "TotalTests          float64\n",
              "Tests/1M pop        float64\n",
              "Population          float64\n",
              "dtype: object"
            ]
          },
          "metadata": {},
          "execution_count": 7
        }
      ]
    },
    {
      "cell_type": "markdown",
      "source": [
        "# Khám phá dữ liệu\n",
        "Kiểm tra số dòng số cột của dữ liệu"
      ],
      "metadata": {
        "id": "mbOvucledfnl"
      }
    },
    {
      "cell_type": "code",
      "source": [
        "df.shape"
      ],
      "metadata": {
        "colab": {
          "base_uri": "https://localhost:8080/"
        },
        "id": "p4dAp8kGeTgp",
        "outputId": "bb144fc8-c406-4ddb-dc0e-47aa3e72a130"
      },
      "execution_count": 8,
      "outputs": [
        {
          "output_type": "execute_result",
          "data": {
            "text/plain": [
              "(229, 14)"
            ]
          },
          "metadata": {},
          "execution_count": 8
        }
      ]
    },
    {
      "cell_type": "markdown",
      "source": [
        "Ta xem mỗi cột dữ liệu có bao nhiêu dòng có giá trị thiếu (hay là giá trị `NaN`)"
      ],
      "metadata": {
        "id": "QPo2CJAbeWh0"
      }
    },
    {
      "cell_type": "code",
      "source": [
        "df.isnull().sum()"
      ],
      "metadata": {
        "colab": {
          "base_uri": "https://localhost:8080/"
        },
        "id": "pp-J1SfudsOr",
        "outputId": "693476c6-726b-4455-cfee-4c079af28b6f"
      },
      "execution_count": 9,
      "outputs": [
        {
          "output_type": "execute_result",
          "data": {
            "text/plain": [
              "Country,Other         0\n",
              "TotalCases            0\n",
              "NewCases            207\n",
              "TotalDeaths           8\n",
              "NewDeaths           216\n",
              "TotalRecovered       15\n",
              "NewRecovered        211\n",
              "ActiveCases          15\n",
              "Serious,Critical     77\n",
              "TotCases/1M pop       2\n",
              "Deaths/1M pop        10\n",
              "TotalTests           17\n",
              "Tests/1M pop         17\n",
              "Population            3\n",
              "dtype: int64"
            ]
          },
          "metadata": {},
          "execution_count": 9
        }
      ]
    },
    {
      "cell_type": "markdown",
      "source": [
        "Ta thấy các cột `NewCases`, `NewDeaths`, `NewRecovered` gần như bị thiếu giá trị ở tất cả các dòng (`207`, `216`, `211` so với `229` dòng của bộ dữ liệu). Có thể lý giải đơn giản là do hầu hết quốc gia đã từ bỏ cập nhật các thông số này hằng ngày mà cập nhật trực tiếp luôn vào các cột Total tương ứng (`TotalCases`, `TotalDeaths`, `TotalRecovered`).  \n",
        "Để tiện cho việc trực quan hóa sau này, ta sẽ tiến hành drop các cột `NewCases`, `NewDeaths`, `NewRecovered` \n"
      ],
      "metadata": {
        "id": "0dwzavjvdwYl"
      }
    },
    {
      "cell_type": "code",
      "source": [
        "new_df = df.drop(columns=['NewCases', 'NewDeaths', 'NewRecovered'], axis='columns')\n",
        "new_df.isnull().sum()"
      ],
      "metadata": {
        "colab": {
          "base_uri": "https://localhost:8080/"
        },
        "id": "qKVmA3amevrl",
        "outputId": "7c29754f-55f6-460a-9b18-00c2657ed73f"
      },
      "execution_count": 10,
      "outputs": [
        {
          "output_type": "execute_result",
          "data": {
            "text/plain": [
              "Country,Other        0\n",
              "TotalCases           0\n",
              "TotalDeaths          8\n",
              "TotalRecovered      15\n",
              "ActiveCases         15\n",
              "Serious,Critical    77\n",
              "TotCases/1M pop      2\n",
              "Deaths/1M pop       10\n",
              "TotalTests          17\n",
              "Tests/1M pop        17\n",
              "Population           3\n",
              "dtype: int64"
            ]
          },
          "metadata": {},
          "execution_count": 10
        }
      ]
    },
    {
      "cell_type": "markdown",
      "source": [
        "# Trực quan hóa"
      ],
      "metadata": {
        "id": "CmDHk2Avhtzu"
      }
    },
    {
      "cell_type": "markdown",
      "source": [
        "Tìm kiếm mối quan hệ từ nhóm 10 quốc gia có dân số nhiều nhất thế giớì"
      ],
      "metadata": {
        "id": "4Tc_oLYGK1bb"
      }
    },
    {
      "cell_type": "code",
      "source": [
        "#trích dataframe mới chứa dữ liệu của 10 quốc gia có dân số nhiều nhất\n",
        "top10_population_df = new_df.sort_values(by=['Population'], ascending=False, ignore_index=True).iloc[:10, :]\n",
        "top10_population_df"
      ],
      "metadata": {
        "colab": {
          "base_uri": "https://localhost:8080/",
          "height": 407
        },
        "id": "sDYlX1BlK_bO",
        "outputId": "98b4b4f5-227d-459f-f145-d39a4346a117"
      },
      "execution_count": 11,
      "outputs": [
        {
          "output_type": "execute_result",
          "data": {
            "text/plain": [
              "  Country,Other  TotalCases  TotalDeaths  TotalRecovered  ActiveCases  \\\n",
              "0         China    215667.0       5022.0        184078.0      26567.0   \n",
              "1         India  43075864.0     523803.0      42533377.0      18684.0   \n",
              "2           USA  83037059.0    1020660.0      80655685.0    1360714.0   \n",
              "3     Indonesia   6046467.0     156240.0       5882062.0       8165.0   \n",
              "4      Pakistan   1528412.0      30371.0       1494141.0       3900.0   \n",
              "5       Nigeria    255716.0       3143.0        249896.0       2677.0   \n",
              "6        Brazil  30433042.0     663484.0      29507557.0     262001.0   \n",
              "7    Bangladesh   1952674.0      29127.0       1895146.0      28401.0   \n",
              "8        Russia  18174991.0     375727.0      17528963.0     270301.0   \n",
              "9        Mexico   5738769.0     324294.0       5038150.0     376325.0   \n",
              "\n",
              "   Serious,Critical  TotCases/1M pop  Deaths/1M pop    TotalTests  \\\n",
              "0             458.0            150.0            3.0  1.600000e+08   \n",
              "1             698.0          30665.0          373.0  8.374420e+08   \n",
              "2            1562.0         248214.0         3051.0  1.005251e+09   \n",
              "3            2771.0          21688.0          560.0  9.549578e+07   \n",
              "4             131.0           6683.0          133.0  2.815648e+07   \n",
              "5              11.0           1187.0           15.0  5.075820e+06   \n",
              "6            8318.0         141344.0         3082.0  6.377617e+07   \n",
              "7            1297.0          11645.0          174.0  1.398753e+07   \n",
              "8            2300.0         124445.0         2573.0  2.734000e+08   \n",
              "9            4798.0          43674.0         2468.0  1.580168e+07   \n",
              "\n",
              "   Tests/1M pop    Population  \n",
              "0      111163.0  1.439324e+09  \n",
              "1      596164.0  1.404717e+09  \n",
              "2     3004892.0  3.345382e+08  \n",
              "3      342534.0  2.787918e+08  \n",
              "4      123114.0  2.287027e+08  \n",
              "5       23560.0  2.154414e+08  \n",
              "6      296204.0  2.153117e+08  \n",
              "7       83419.0  1.676780e+08  \n",
              "8     1871982.0  1.460484e+08  \n",
              "9      120256.0  1.314001e+08  "
            ],
            "text/html": [
              "\n",
              "  <div id=\"df-59e0cfc4-71e8-4d60-80d7-61e7d7d4870c\">\n",
              "    <div class=\"colab-df-container\">\n",
              "      <div>\n",
              "<style scoped>\n",
              "    .dataframe tbody tr th:only-of-type {\n",
              "        vertical-align: middle;\n",
              "    }\n",
              "\n",
              "    .dataframe tbody tr th {\n",
              "        vertical-align: top;\n",
              "    }\n",
              "\n",
              "    .dataframe thead th {\n",
              "        text-align: right;\n",
              "    }\n",
              "</style>\n",
              "<table border=\"1\" class=\"dataframe\">\n",
              "  <thead>\n",
              "    <tr style=\"text-align: right;\">\n",
              "      <th></th>\n",
              "      <th>Country,Other</th>\n",
              "      <th>TotalCases</th>\n",
              "      <th>TotalDeaths</th>\n",
              "      <th>TotalRecovered</th>\n",
              "      <th>ActiveCases</th>\n",
              "      <th>Serious,Critical</th>\n",
              "      <th>TotCases/1M pop</th>\n",
              "      <th>Deaths/1M pop</th>\n",
              "      <th>TotalTests</th>\n",
              "      <th>Tests/1M pop</th>\n",
              "      <th>Population</th>\n",
              "    </tr>\n",
              "  </thead>\n",
              "  <tbody>\n",
              "    <tr>\n",
              "      <th>0</th>\n",
              "      <td>China</td>\n",
              "      <td>215667.0</td>\n",
              "      <td>5022.0</td>\n",
              "      <td>184078.0</td>\n",
              "      <td>26567.0</td>\n",
              "      <td>458.0</td>\n",
              "      <td>150.0</td>\n",
              "      <td>3.0</td>\n",
              "      <td>1.600000e+08</td>\n",
              "      <td>111163.0</td>\n",
              "      <td>1.439324e+09</td>\n",
              "    </tr>\n",
              "    <tr>\n",
              "      <th>1</th>\n",
              "      <td>India</td>\n",
              "      <td>43075864.0</td>\n",
              "      <td>523803.0</td>\n",
              "      <td>42533377.0</td>\n",
              "      <td>18684.0</td>\n",
              "      <td>698.0</td>\n",
              "      <td>30665.0</td>\n",
              "      <td>373.0</td>\n",
              "      <td>8.374420e+08</td>\n",
              "      <td>596164.0</td>\n",
              "      <td>1.404717e+09</td>\n",
              "    </tr>\n",
              "    <tr>\n",
              "      <th>2</th>\n",
              "      <td>USA</td>\n",
              "      <td>83037059.0</td>\n",
              "      <td>1020660.0</td>\n",
              "      <td>80655685.0</td>\n",
              "      <td>1360714.0</td>\n",
              "      <td>1562.0</td>\n",
              "      <td>248214.0</td>\n",
              "      <td>3051.0</td>\n",
              "      <td>1.005251e+09</td>\n",
              "      <td>3004892.0</td>\n",
              "      <td>3.345382e+08</td>\n",
              "    </tr>\n",
              "    <tr>\n",
              "      <th>3</th>\n",
              "      <td>Indonesia</td>\n",
              "      <td>6046467.0</td>\n",
              "      <td>156240.0</td>\n",
              "      <td>5882062.0</td>\n",
              "      <td>8165.0</td>\n",
              "      <td>2771.0</td>\n",
              "      <td>21688.0</td>\n",
              "      <td>560.0</td>\n",
              "      <td>9.549578e+07</td>\n",
              "      <td>342534.0</td>\n",
              "      <td>2.787918e+08</td>\n",
              "    </tr>\n",
              "    <tr>\n",
              "      <th>4</th>\n",
              "      <td>Pakistan</td>\n",
              "      <td>1528412.0</td>\n",
              "      <td>30371.0</td>\n",
              "      <td>1494141.0</td>\n",
              "      <td>3900.0</td>\n",
              "      <td>131.0</td>\n",
              "      <td>6683.0</td>\n",
              "      <td>133.0</td>\n",
              "      <td>2.815648e+07</td>\n",
              "      <td>123114.0</td>\n",
              "      <td>2.287027e+08</td>\n",
              "    </tr>\n",
              "    <tr>\n",
              "      <th>5</th>\n",
              "      <td>Nigeria</td>\n",
              "      <td>255716.0</td>\n",
              "      <td>3143.0</td>\n",
              "      <td>249896.0</td>\n",
              "      <td>2677.0</td>\n",
              "      <td>11.0</td>\n",
              "      <td>1187.0</td>\n",
              "      <td>15.0</td>\n",
              "      <td>5.075820e+06</td>\n",
              "      <td>23560.0</td>\n",
              "      <td>2.154414e+08</td>\n",
              "    </tr>\n",
              "    <tr>\n",
              "      <th>6</th>\n",
              "      <td>Brazil</td>\n",
              "      <td>30433042.0</td>\n",
              "      <td>663484.0</td>\n",
              "      <td>29507557.0</td>\n",
              "      <td>262001.0</td>\n",
              "      <td>8318.0</td>\n",
              "      <td>141344.0</td>\n",
              "      <td>3082.0</td>\n",
              "      <td>6.377617e+07</td>\n",
              "      <td>296204.0</td>\n",
              "      <td>2.153117e+08</td>\n",
              "    </tr>\n",
              "    <tr>\n",
              "      <th>7</th>\n",
              "      <td>Bangladesh</td>\n",
              "      <td>1952674.0</td>\n",
              "      <td>29127.0</td>\n",
              "      <td>1895146.0</td>\n",
              "      <td>28401.0</td>\n",
              "      <td>1297.0</td>\n",
              "      <td>11645.0</td>\n",
              "      <td>174.0</td>\n",
              "      <td>1.398753e+07</td>\n",
              "      <td>83419.0</td>\n",
              "      <td>1.676780e+08</td>\n",
              "    </tr>\n",
              "    <tr>\n",
              "      <th>8</th>\n",
              "      <td>Russia</td>\n",
              "      <td>18174991.0</td>\n",
              "      <td>375727.0</td>\n",
              "      <td>17528963.0</td>\n",
              "      <td>270301.0</td>\n",
              "      <td>2300.0</td>\n",
              "      <td>124445.0</td>\n",
              "      <td>2573.0</td>\n",
              "      <td>2.734000e+08</td>\n",
              "      <td>1871982.0</td>\n",
              "      <td>1.460484e+08</td>\n",
              "    </tr>\n",
              "    <tr>\n",
              "      <th>9</th>\n",
              "      <td>Mexico</td>\n",
              "      <td>5738769.0</td>\n",
              "      <td>324294.0</td>\n",
              "      <td>5038150.0</td>\n",
              "      <td>376325.0</td>\n",
              "      <td>4798.0</td>\n",
              "      <td>43674.0</td>\n",
              "      <td>2468.0</td>\n",
              "      <td>1.580168e+07</td>\n",
              "      <td>120256.0</td>\n",
              "      <td>1.314001e+08</td>\n",
              "    </tr>\n",
              "  </tbody>\n",
              "</table>\n",
              "</div>\n",
              "      <button class=\"colab-df-convert\" onclick=\"convertToInteractive('df-59e0cfc4-71e8-4d60-80d7-61e7d7d4870c')\"\n",
              "              title=\"Convert this dataframe to an interactive table.\"\n",
              "              style=\"display:none;\">\n",
              "        \n",
              "  <svg xmlns=\"http://www.w3.org/2000/svg\" height=\"24px\"viewBox=\"0 0 24 24\"\n",
              "       width=\"24px\">\n",
              "    <path d=\"M0 0h24v24H0V0z\" fill=\"none\"/>\n",
              "    <path d=\"M18.56 5.44l.94 2.06.94-2.06 2.06-.94-2.06-.94-.94-2.06-.94 2.06-2.06.94zm-11 1L8.5 8.5l.94-2.06 2.06-.94-2.06-.94L8.5 2.5l-.94 2.06-2.06.94zm10 10l.94 2.06.94-2.06 2.06-.94-2.06-.94-.94-2.06-.94 2.06-2.06.94z\"/><path d=\"M17.41 7.96l-1.37-1.37c-.4-.4-.92-.59-1.43-.59-.52 0-1.04.2-1.43.59L10.3 9.45l-7.72 7.72c-.78.78-.78 2.05 0 2.83L4 21.41c.39.39.9.59 1.41.59.51 0 1.02-.2 1.41-.59l7.78-7.78 2.81-2.81c.8-.78.8-2.07 0-2.86zM5.41 20L4 18.59l7.72-7.72 1.47 1.35L5.41 20z\"/>\n",
              "  </svg>\n",
              "      </button>\n",
              "      \n",
              "  <style>\n",
              "    .colab-df-container {\n",
              "      display:flex;\n",
              "      flex-wrap:wrap;\n",
              "      gap: 12px;\n",
              "    }\n",
              "\n",
              "    .colab-df-convert {\n",
              "      background-color: #E8F0FE;\n",
              "      border: none;\n",
              "      border-radius: 50%;\n",
              "      cursor: pointer;\n",
              "      display: none;\n",
              "      fill: #1967D2;\n",
              "      height: 32px;\n",
              "      padding: 0 0 0 0;\n",
              "      width: 32px;\n",
              "    }\n",
              "\n",
              "    .colab-df-convert:hover {\n",
              "      background-color: #E2EBFA;\n",
              "      box-shadow: 0px 1px 2px rgba(60, 64, 67, 0.3), 0px 1px 3px 1px rgba(60, 64, 67, 0.15);\n",
              "      fill: #174EA6;\n",
              "    }\n",
              "\n",
              "    [theme=dark] .colab-df-convert {\n",
              "      background-color: #3B4455;\n",
              "      fill: #D2E3FC;\n",
              "    }\n",
              "\n",
              "    [theme=dark] .colab-df-convert:hover {\n",
              "      background-color: #434B5C;\n",
              "      box-shadow: 0px 1px 3px 1px rgba(0, 0, 0, 0.15);\n",
              "      filter: drop-shadow(0px 1px 2px rgba(0, 0, 0, 0.3));\n",
              "      fill: #FFFFFF;\n",
              "    }\n",
              "  </style>\n",
              "\n",
              "      <script>\n",
              "        const buttonEl =\n",
              "          document.querySelector('#df-59e0cfc4-71e8-4d60-80d7-61e7d7d4870c button.colab-df-convert');\n",
              "        buttonEl.style.display =\n",
              "          google.colab.kernel.accessAllowed ? 'block' : 'none';\n",
              "\n",
              "        async function convertToInteractive(key) {\n",
              "          const element = document.querySelector('#df-59e0cfc4-71e8-4d60-80d7-61e7d7d4870c');\n",
              "          const dataTable =\n",
              "            await google.colab.kernel.invokeFunction('convertToInteractive',\n",
              "                                                     [key], {});\n",
              "          if (!dataTable) return;\n",
              "\n",
              "          const docLinkHtml = 'Like what you see? Visit the ' +\n",
              "            '<a target=\"_blank\" href=https://colab.research.google.com/notebooks/data_table.ipynb>data table notebook</a>'\n",
              "            + ' to learn more about interactive tables.';\n",
              "          element.innerHTML = '';\n",
              "          dataTable['output_type'] = 'display_data';\n",
              "          await google.colab.output.renderOutput(dataTable, element);\n",
              "          const docLink = document.createElement('div');\n",
              "          docLink.innerHTML = docLinkHtml;\n",
              "          element.appendChild(docLink);\n",
              "        }\n",
              "      </script>\n",
              "    </div>\n",
              "  </div>\n",
              "  "
            ]
          },
          "metadata": {},
          "execution_count": 11
        }
      ]
    },
    {
      "cell_type": "markdown",
      "source": [
        "DataFrame không chứa giá trị `NaN` cũng như các giá trị khác nên ta có thể thực hiện tiếp."
      ],
      "metadata": {
        "id": "ERkntlD_Nl10"
      }
    },
    {
      "cell_type": "markdown",
      "source": [
        "### Vẽ biểu đồ thể hiện TotalCases, TotalRecovered, TotalDeaths, TotalTests."
      ],
      "metadata": {
        "id": "dcjCl2QO9-zd"
      }
    },
    {
      "cell_type": "code",
      "source": [
        "dfs = top10_population_df[['Country,Other', 'TotalCases', 'TotalRecovered', 'TotalDeaths', 'TotalTests']]\n",
        "dfs = dfs.set_index('Country,Other')\n",
        "ax = dfs.plot.bar(rot = 0, width = 0.5, figsize = (15,10));"
      ],
      "metadata": {
        "colab": {
          "base_uri": "https://localhost:8080/",
          "height": 616
        },
        "id": "-NWZgNM2N1C0",
        "outputId": "5619afdb-9dae-46fc-eb56-350393101547"
      },
      "execution_count": 12,
      "outputs": [
        {
          "output_type": "display_data",
          "data": {
            "text/plain": [
              "<Figure size 1080x720 with 1 Axes>"
            ],
            "image/png": "[encoded data removed]"
          },
          "metadata": {
            "needs_background": "light"
          }
        }
      ]
    },
    {
      "cell_type": "markdown",
      "source": [
        "Ta có thể thấy 1 sự tương quan tỷ lệ thuận với nhau giữa `TotalCases`, `TotalRecovered`, `TotalDeaths` và `TotalTests`. Tức là, số lượng thực hiện xét nghiệm càng nhiều sẽ số lượng ca nhiễm phát hiện được cũng gia tăng, dẫn đến nguy cơ có nhiều ca tử vong cũng như ca phục hồi ghi nhận.  \n",
        "Tốc độ phục hồi dịch bệnh của các nước đều rất tốt (`TotalRecovered` xấp xỉ gần bằng `TotalCases`).  \n",
        "Số ca tử vong (`TotalDeaths`) khá thấp nếu so sánh với `TotalCases`, `TotalRecovered`"
      ],
      "metadata": {
        "id": "NdyOy2QrXFDM"
      }
    },
    {
      "cell_type": "markdown",
      "source": [
        "### Tỷ lệ Serious,Critical so với ActiveCases."
      ],
      "metadata": {
        "id": "gZ9r7tlZ-FTU"
      }
    },
    {
      "cell_type": "code",
      "source": [
        "#Iterate over all dates and find the serious cases and active cases\n",
        "iterable1 = (top10_population_df.loc[i, 'Serious,Critical'] for i in range(10))\n",
        "iterable2 = (top10_population_df.loc[i, 'ActiveCases'] for i in range(10))\n",
        "\n",
        "top10_total_serious = np.fromiter(iterable1, dtype = float)\n",
        "top10_total_activecases = np.fromiter(iterable2, dtype = float)\n",
        "\n",
        "proportion = [np.sum(top10_total_serious), np.sum(top10_total_activecases)]"
      ],
      "metadata": {
        "id": "yFIYPyU_arEI"
      },
      "execution_count": 13,
      "outputs": []
    },
    {
      "cell_type": "code",
      "source": [
        "# Creating autocpt arguments\n",
        "def func(pct, allvalues):\n",
        "    absolute = int(pct / 100.* np.sum(allvalues))\n",
        "    return \"{:.1f}%\\n({:d})\".format(pct, absolute)"
      ],
      "metadata": {
        "id": "_ticYx2HYW5A"
      },
      "execution_count": 14,
      "outputs": []
    },
    {
      "cell_type": "code",
      "source": [
        "#Plot pie chart to show the proportion between total deaths and total recovered\n",
        "fig, ax = plt.subplots(figsize = (10,10)) \n",
        "ax.pie(proportion,\n",
        "       labels = ['Serious,Critical', 'ActiveCases'],\n",
        "       autopct = lambda pct: func(pct, proportion),\n",
        "       textprops = {'fontsize': 15})\n",
        "ax.axis('equal')\n",
        "ax.set_title('Proportion of `Serious,Critical` and `ActiveCases`', size = 20)\n",
        "plt.show() "
      ],
      "metadata": {
        "colab": {
          "base_uri": "https://localhost:8080/",
          "height": 596
        },
        "id": "zqUjTzwC5XdH",
        "outputId": "64d35b78-cee7-4818-9047-c9e3212dd817"
      },
      "execution_count": 15,
      "outputs": [
        {
          "output_type": "display_data",
          "data": {
            "text/plain": [
              "<Figure size 720x720 with 1 Axes>"
            ],
            "image/png": "[encoded data removed]"
          },
          "metadata": {}
        }
      ]
    },
    {
      "cell_type": "markdown",
      "source": [
        "Có thể thấy rằng tỷ lệ các ca bệnh nặng (`Serious,Critical`) chỉ chiếm tỷ lệ khá nhỏ (`0.9%` trong tổng số ca hiện tại). Có thể do biến thể mới có sức lây lan trong cộng đồng mạnh hơn nhưng độc lực đã giảm đi cộng với việc vaccine đã được phủ rộng rãi khiến tỷ lệ chuyển nặng giảm đi rất nhiều."
      ],
      "metadata": {
        "id": "GH2e2f_exFZ1"
      }
    },
    {
      "cell_type": "markdown",
      "source": [
        "### Vẽ biểu đồ thể hiện TotCases/1M, Deaths/1M, Tests/1M."
      ],
      "metadata": {
        "id": "4mUmSVYJ-i4x"
      }
    },
    {
      "cell_type": "code",
      "source": [
        "# Vẽ biểu đồ thể hiện TotCases/1M, Deaths/1M, Tests/1M.\n",
        "def plot_bar(country, col, set_title):\n",
        "  # Figure Size\n",
        "  fig, ax = plt.subplots(figsize = (16, 9))\n",
        "  \n",
        "  # Horizontal Bar Plot\n",
        "  ax.barh(country, col)\n",
        "  \n",
        "  # Remove axes splines\n",
        "  for s in ['top', 'bottom', 'left', 'right']:\n",
        "      ax.spines[s].set_visible(False)\n",
        "  \n",
        "  # Remove x, y Ticks\n",
        "  ax.xaxis.set_ticks_position('none')\n",
        "  ax.yaxis.set_ticks_position('none')\n",
        "  \n",
        "  # Add padding between axes and labels\n",
        "  ax.xaxis.set_tick_params(pad = 5)\n",
        "  ax.yaxis.set_tick_params(pad = 10)\n",
        "  \n",
        "  # Add x, y gridlines\n",
        "  ax.grid(b = True, color = 'grey',\n",
        "          linestyle = '-.', linewidth = 0.5,\n",
        "          alpha = 0.2)\n",
        "  \n",
        "  # Show top values\n",
        "  ax.invert_yaxis()\n",
        "  \n",
        "  # Add annotation to bars\n",
        "  for i in ax.patches:\n",
        "      plt.text(i.get_width() + 0.2, i.get_y() + 0.5,\n",
        "              str(round((i.get_width()), 2)),\n",
        "              fontsize = 10, fontweight = 'bold',\n",
        "              color = 'grey')\n",
        "  \n",
        "  # Add Plot Title\n",
        "  ax.set_title(set_title, loc = 'left')\n",
        "  \n",
        "  # Add Text watermark\n",
        "  fig.text(0.9, 0.15, \"\", fontsize = 12,\n",
        "          color = 'grey', ha = 'right', va = 'bottom',\n",
        "          alpha = 0.7)\n",
        "  \n",
        "  # Show Plot\n",
        "  plt.show()"
      ],
      "metadata": {
        "id": "JRWm6LElnv96"
      },
      "execution_count": 16,
      "outputs": []
    },
    {
      "cell_type": "code",
      "source": [
        "country = list(top10_population_df['Country,Other'])\n",
        "totcases_1M = list(top10_population_df['TotCases/1M pop'])\n",
        "plot_bar(country, totcases_1M, 'Total Cases per 1M population')"
      ],
      "metadata": {
        "colab": {
          "base_uri": "https://localhost:8080/",
          "height": 555
        },
        "id": "Lb30rKVF1ZZ1",
        "outputId": "f91ac38d-5c84-49c1-d120-277fd5742210"
      },
      "execution_count": 17,
      "outputs": [
        {
          "output_type": "display_data",
          "data": {
            "text/plain": [
              "<Figure size 1152x648 with 1 Axes>"
            ],
            "image/png": "[encoded data removed]"
          },
          "metadata": {
            "needs_background": "light"
          }
        }
      ]
    },
    {
      "cell_type": "code",
      "source": [
        "deathcases_1M = list(top10_population_df['Deaths/1M pop'])\n",
        "plot_bar(country, deathcases_1M, 'Deaths per 1M population')"
      ],
      "metadata": {
        "colab": {
          "base_uri": "https://localhost:8080/",
          "height": 555
        },
        "id": "2Et26g-IyBZ-",
        "outputId": "6f72027a-e791-4da2-e44c-e89df34799ff"
      },
      "execution_count": 18,
      "outputs": [
        {
          "output_type": "display_data",
          "data": {
            "text/plain": [
              "<Figure size 1152x648 with 1 Axes>"
            ],
            "image/png": "[encoded data removed]"
          },
          "metadata": {
            "needs_background": "light"
          }
        }
      ]
    },
    {
      "cell_type": "code",
      "source": [
        "test_1M = list(top10_population_df['Tests/1M pop'])\n",
        "plot_bar(country, test_1M, 'Tests per 1M population')"
      ],
      "metadata": {
        "colab": {
          "base_uri": "https://localhost:8080/",
          "height": 568
        },
        "id": "SNDJ5_oayrQH",
        "outputId": "1d6bd8c6-cec0-4d69-f4a3-d12458f871b9"
      },
      "execution_count": 19,
      "outputs": [
        {
          "output_type": "display_data",
          "data": {
            "text/plain": [
              "<Figure size 1152x648 with 1 Axes>"
            ],
            "image/png": "[encoded data removed]"
          },
          "metadata": {
            "needs_background": "light"
          }
        }
      ]
    },
    {
      "cell_type": "markdown",
      "source": [
        "Bây giờ ta sẽ xem có liên quan gì giữa `TotCases/1M pop` và `Tests/1M pop` hay không bằng cách biểu diễn chúng trên cùng 1 biểu đồ."
      ],
      "metadata": {
        "id": "iu5s1D55zkET"
      }
    },
    {
      "cell_type": "code",
      "source": [
        "# set width of bar\n",
        "barWidth = 0.25\n",
        "fig = plt.subplots(figsize =(12, 8)) \n",
        "# Set position of bar on X axis\n",
        "br1 = np.arange(len(totcases_1M))\n",
        "br2 = [x + barWidth for x in br1]\n",
        "\n",
        "# Make the plot\n",
        "plt.bar(br1, totcases_1M, color = 'y', width = barWidth,\n",
        "        edgecolor = 'grey', label ='TotCases/1M pop')\n",
        "plt.bar(br2, test_1M, color = 'b', width = barWidth,\n",
        "        edgecolor = 'grey', label = 'Tests/1M pop')\n",
        " \n",
        "# Adding Xticks\n",
        "plt.xlabel('Country', fontweight = 'bold', fontsize = 15)\n",
        "plt.ylabel('Amount', fontweight = 'bold', fontsize = 15)\n",
        "plt.xticks([r + barWidth for r in range(len(totcases_1M))], country)\n",
        " \n",
        "plt.legend()\n",
        "plt.show()"
      ],
      "metadata": {
        "colab": {
          "base_uri": "https://localhost:8080/",
          "height": 513
        },
        "id": "DZMBWcTNz9Qi",
        "outputId": "8ab02d29-4220-4fea-b0b9-90b2c7710dc7"
      },
      "execution_count": 20,
      "outputs": [
        {
          "output_type": "display_data",
          "data": {
            "text/plain": [
              "<Figure size 864x576 with 1 Axes>"
            ],
            "image/png": "[encoded data removed]"
          },
          "metadata": {
            "needs_background": "light"
          }
        }
      ]
    },
    {
      "cell_type": "markdown",
      "source": [
        "Từ các biểu đồ trên ta thấy Mỹ và Nga là 2 quốc gia tiến hành nhiều xét nghiệm nhất nếu tính theo tỷ lệ trên 1 triệu dân. Tuy nhiên ở 1 số quốc gia có tỷ lệ này ở mức thấp, tổng số ca nhiễm và tử vong lại chiếm tỷ trọng khá cao (như Mexico, Brazil). Cho nên 2 trường `TotCases/1M pop` vaf `Tests/1M pop` chưa thể hiện mối liên quan nào rõ ràng."
      ],
      "metadata": {
        "id": "0D9b5rFB7H8G"
      }
    },
    {
      "cell_type": "code",
      "source": [
        "# Liệu có quan hệ nhân quả giữa hai trường TotalCases và TotalTests không? \n",
        "plt.figure(figsize = (12,8))\n",
        "sns.regplot(data = top10_population_df, x = 'TotalCases', y = 'TotalTests')\n",
        "plt.ticklabel_format(style = 'plain')\n",
        "plt.title('Relationship between total cases and total tests')\n",
        "plt.show()"
      ],
      "metadata": {
        "colab": {
          "base_uri": "https://localhost:8080/",
          "height": 513
        },
        "id": "1cRBL6Ko2GBm",
        "outputId": "5a21230c-2d35-49ea-b18b-c2b5dc9ad6b3"
      },
      "execution_count": 21,
      "outputs": [
        {
          "output_type": "display_data",
          "data": {
            "text/plain": [
              "<Figure size 864x576 with 1 Axes>"
            ],
            "image/png": "[encoded data removed]"
          },
          "metadata": {
            "needs_background": "light"
          }
        }
      ]
    },
    {
      "cell_type": "markdown",
      "source": [
        "Ta thấy có một mối quan hệ tuyến tính giữa 2 cột này nên có thể đặt ra giải thuyết có mối liên hệ nhân quả giữa chúng (tức là số ca nhiễm một quốc gia ghi nhận nhiều hơn do quốc gia đó đã tiến hành nhiều xét nghiệm chẩn đoán)"
      ],
      "metadata": {
        "id": "H5iqOr1haRCs"
      }
    },
    {
      "cell_type": "markdown",
      "source": [
        "### So sánh tỷ lệ giữa TotalCases và TotalTests"
      ],
      "metadata": {
        "id": "A1-1NwR1-neB"
      }
    },
    {
      "cell_type": "code",
      "source": [
        "#Iterate over all dates and find the serious cases and active cases\n",
        "iter1 = (top10_population_df.loc[i, 'TotalCases'] for i in range(10))\n",
        "iter2 = (top10_population_df.loc[i, 'TotalTests'] for i in range(10))\n",
        "\n",
        "top10_total_cases = np.fromiter(iter1, dtype = float)\n",
        "top10_total_tests = np.fromiter(iter2, dtype = float)\n",
        "\n",
        "proportion = [np.sum(top10_total_cases), np.sum(top10_total_tests)]"
      ],
      "metadata": {
        "id": "o6CRGh0baOAR"
      },
      "execution_count": 22,
      "outputs": []
    },
    {
      "cell_type": "code",
      "source": [
        "#Plot pie chart to show the proportion between total deaths and total recovered\n",
        "fig,ax = plt.subplots(figsize = (10,10)) \n",
        "ax.pie(proportion,\n",
        "       labels = ['TotalCases', 'TotalTests'],\n",
        "       autopct = lambda pct: func(pct, proportion),\n",
        "       textprops = {'fontsize':15})\n",
        "ax.axis('equal')\n",
        "ax.set_title('Proportion of TotalCases and TotalTests', size=20)\n",
        "plt.show() "
      ],
      "metadata": {
        "colab": {
          "base_uri": "https://localhost:8080/",
          "height": 596
        },
        "id": "pfWlOIH15ZkY",
        "outputId": "6dee5f98-caf1-4ded-8d35-b0d2bbd9b58d"
      },
      "execution_count": 23,
      "outputs": [
        {
          "output_type": "display_data",
          "data": {
            "text/plain": [
              "<Figure size 720x720 with 1 Axes>"
            ],
            "image/png": "[encoded data removed]"
          },
          "metadata": {}
        }
      ]
    },
    {
      "cell_type": "markdown",
      "source": [
        "Như vậy ta có thể kết luận được:  \n",
        "- Số lượng test có mối tương quan với số lượng ca nhiễm.  \n",
        "- Tỷ lệ tổng số ca nhiễm trên tổng số xét nghiệm là khoảng `7.1%`, tức là cứ 100 xét nghiệm thì phát hiện được khoảng 7 ca bệnh. Điều này cần được đánh giá đúng hơn qua việc xác định xem xét nghiệm thực hiện là xét nghiệm nhanh hay xét nghiệm sinh học phân tử (PCR), vì độ nhạy của các xét nghiệm này là khác nhau."
      ],
      "metadata": {
        "id": "DFg60aqI5v93"
      }
    }
  ]
}